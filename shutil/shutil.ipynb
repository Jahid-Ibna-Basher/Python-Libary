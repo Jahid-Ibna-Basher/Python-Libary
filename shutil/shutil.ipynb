{
 "cells": [
  {
   "cell_type": "code",
   "execution_count": null,
   "metadata": {},
   "outputs": [],
   "source": [
    "import shutil\n",
    "#https://www.askpython.com/python-modules/shutil-module\n",
    "https://www.tutorialspoint.com/high-level-file-operations-in-python-shutil"
   ]
  },
  {
   "cell_type": "raw",
   "metadata": {},
   "source": [
    "Suppose, we want to copy the contents of the file data.txt to data1.txt, we can use the follow piece of code:"
   ]
  },
  {
   "cell_type": "code",
   "execution_count": null,
   "metadata": {},
   "outputs": [],
   "source": [
    "f=open('data.txt','r')\n",
    "f1=open('data1.txt','w')\n",
    " \n",
    "# Syntax: shutil.copyfileobj(src,dst)\n",
    "shutil.copyfileobj(f,f1)\n",
    " \n",
    "f.close()\n",
    "f1.close()"
   ]
  },
  {
   "cell_type": "code",
   "execution_count": null,
   "metadata": {},
   "outputs": [],
   "source": [
    "#shutil.copy(src,dst)\n",
    "shutil.copy('data.txt','data1.txt')"
   ]
  },
  {
   "cell_type": "code",
   "execution_count": null,
   "metadata": {},
   "outputs": [],
   "source": [
    "#shutil.copy2(src,dst)\n",
    "#copy(src,dst) and copy2(src,dst) functions are almost the same but copy2(src,dst) also copies the metadata of the source file\n",
    "shutil.copy2('data.txt','data1.txt')"
   ]
  },
  {
   "cell_type": "code",
   "execution_count": null,
   "metadata": {},
   "outputs": [],
   "source": [
    "shutil.move(src,dst)\n",
    "shutil.copyfile(src,dst)\n",
    "shutil.copytree(src,dst)"
   ]
  },
  {
   "cell_type": "code",
   "execution_count": null,
   "metadata": {},
   "outputs": [],
   "source": [
    "How to remove/delete files with shutil module?\n",
    "Now that we’ve learned how we can work with the moving and copying files, let’s learn to remove or delete files from specific locations from within your Python scripts.\n",
    "\n",
    "By using shutil.rmtree(), we can delete any folder,file or directory. Let’s delete the folder Python.\n",
    "\n"
   ]
  },
  {
   "cell_type": "code",
   "execution_count": null,
   "metadata": {},
   "outputs": [],
   "source": [
    ". shutil.disk_usage(path)\n",
    "shutil.disk_usage(path) function returns the disk usage statistics about the given path names as tuple with attributes total which is total amount of memory, used which is used space and free which is free space in bytes"
   ]
  },
  {
   "cell_type": "code",
   "execution_count": null,
   "metadata": {},
   "outputs": [],
   "source": [
    " shutil.which()\n",
    "shutil.which() function returns the path to an executable application which would run if the given command cmd was called"
   ]
  }
 ],
 "metadata": {
  "interpreter": {
   "hash": "c5c687d8dcdb6f774179cb41697ea01a1cdc1cc550161d575071b98fafab4801"
  },
  "kernelspec": {
   "display_name": "Python 3.8.8 64-bit ('base': conda)",
   "language": "python",
   "name": "python3"
  },
  "language_info": {
   "name": "python",
   "version": "3.8.8"
  },
  "orig_nbformat": 4
 },
 "nbformat": 4,
 "nbformat_minor": 2
}
